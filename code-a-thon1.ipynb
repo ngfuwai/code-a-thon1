{
 "cells": [
  {
   "cell_type": "code",
   "execution_count": 2,
   "metadata": {},
   "outputs": [
    {
     "data": {
      "text/html": [
       "<div>\n",
       "<style scoped>\n",
       "    .dataframe tbody tr th:only-of-type {\n",
       "        vertical-align: middle;\n",
       "    }\n",
       "\n",
       "    .dataframe tbody tr th {\n",
       "        vertical-align: top;\n",
       "    }\n",
       "\n",
       "    .dataframe thead th {\n",
       "        text-align: right;\n",
       "    }\n",
       "</style>\n",
       "<table border=\"1\" class=\"dataframe\">\n",
       "  <thead>\n",
       "    <tr style=\"text-align: right;\">\n",
       "      <th></th>\n",
       "      <th>Country</th>\n",
       "      <th>Happiness.Rank</th>\n",
       "      <th>Happiness.Score</th>\n",
       "      <th>Whisker.high</th>\n",
       "      <th>Whisker.low</th>\n",
       "      <th>Economy..GDP.per.Capita.</th>\n",
       "      <th>Family</th>\n",
       "      <th>Health..Life.Expectancy.</th>\n",
       "      <th>Freedom</th>\n",
       "      <th>Generosity</th>\n",
       "      <th>Trust..Government.Corruption.</th>\n",
       "      <th>Dystopia.Residual</th>\n",
       "    </tr>\n",
       "  </thead>\n",
       "  <tbody>\n",
       "    <tr>\n",
       "      <th>0</th>\n",
       "      <td>Norway</td>\n",
       "      <td>1</td>\n",
       "      <td>7.537</td>\n",
       "      <td>7.594445</td>\n",
       "      <td>7.479556</td>\n",
       "      <td>1.616463</td>\n",
       "      <td>1.533524</td>\n",
       "      <td>0.796667</td>\n",
       "      <td>0.635423</td>\n",
       "      <td>0.362012</td>\n",
       "      <td>0.315964</td>\n",
       "      <td>2.277027</td>\n",
       "    </tr>\n",
       "    <tr>\n",
       "      <th>1</th>\n",
       "      <td>Denmark</td>\n",
       "      <td>2</td>\n",
       "      <td>7.522</td>\n",
       "      <td>7.581728</td>\n",
       "      <td>7.462272</td>\n",
       "      <td>1.482383</td>\n",
       "      <td>1.551122</td>\n",
       "      <td>0.792566</td>\n",
       "      <td>0.626007</td>\n",
       "      <td>0.355280</td>\n",
       "      <td>0.400770</td>\n",
       "      <td>2.313707</td>\n",
       "    </tr>\n",
       "    <tr>\n",
       "      <th>2</th>\n",
       "      <td>Iceland</td>\n",
       "      <td>3</td>\n",
       "      <td>7.504</td>\n",
       "      <td>7.622030</td>\n",
       "      <td>7.385970</td>\n",
       "      <td>1.480633</td>\n",
       "      <td>1.610574</td>\n",
       "      <td>0.833552</td>\n",
       "      <td>0.627163</td>\n",
       "      <td>0.475540</td>\n",
       "      <td>0.153527</td>\n",
       "      <td>2.322715</td>\n",
       "    </tr>\n",
       "    <tr>\n",
       "      <th>3</th>\n",
       "      <td>Switzerland</td>\n",
       "      <td>4</td>\n",
       "      <td>7.494</td>\n",
       "      <td>7.561772</td>\n",
       "      <td>7.426227</td>\n",
       "      <td>1.564980</td>\n",
       "      <td>1.516912</td>\n",
       "      <td>0.858131</td>\n",
       "      <td>0.620071</td>\n",
       "      <td>0.290549</td>\n",
       "      <td>0.367007</td>\n",
       "      <td>2.276716</td>\n",
       "    </tr>\n",
       "    <tr>\n",
       "      <th>4</th>\n",
       "      <td>Finland</td>\n",
       "      <td>5</td>\n",
       "      <td>7.469</td>\n",
       "      <td>7.527542</td>\n",
       "      <td>7.410458</td>\n",
       "      <td>1.443572</td>\n",
       "      <td>1.540247</td>\n",
       "      <td>0.809158</td>\n",
       "      <td>0.617951</td>\n",
       "      <td>0.245483</td>\n",
       "      <td>0.382612</td>\n",
       "      <td>2.430182</td>\n",
       "    </tr>\n",
       "  </tbody>\n",
       "</table>\n",
       "</div>"
      ],
      "text/plain": [
       "       Country  Happiness.Rank  Happiness.Score  Whisker.high  Whisker.low  \\\n",
       "0       Norway               1            7.537      7.594445     7.479556   \n",
       "1      Denmark               2            7.522      7.581728     7.462272   \n",
       "2      Iceland               3            7.504      7.622030     7.385970   \n",
       "3  Switzerland               4            7.494      7.561772     7.426227   \n",
       "4      Finland               5            7.469      7.527542     7.410458   \n",
       "\n",
       "   Economy..GDP.per.Capita.    Family  Health..Life.Expectancy.   Freedom  \\\n",
       "0                  1.616463  1.533524                  0.796667  0.635423   \n",
       "1                  1.482383  1.551122                  0.792566  0.626007   \n",
       "2                  1.480633  1.610574                  0.833552  0.627163   \n",
       "3                  1.564980  1.516912                  0.858131  0.620071   \n",
       "4                  1.443572  1.540247                  0.809158  0.617951   \n",
       "\n",
       "   Generosity  Trust..Government.Corruption.  Dystopia.Residual  \n",
       "0    0.362012                       0.315964           2.277027  \n",
       "1    0.355280                       0.400770           2.313707  \n",
       "2    0.475540                       0.153527           2.322715  \n",
       "3    0.290549                       0.367007           2.276716  \n",
       "4    0.245483                       0.382612           2.430182  "
      ]
     },
     "execution_count": 2,
     "metadata": {},
     "output_type": "execute_result"
    }
   ],
   "source": [
    "import pandas as pd\n",
    "\n",
    "data = pd.read_csv(\"2017_world_happiness_resort.csv\")\n",
    "data.head()"
   ]
  },
  {
   "cell_type": "code",
   "execution_count": 3,
   "metadata": {},
   "outputs": [
    {
     "name": "stdout",
     "output_type": "stream",
     "text": [
      "<class 'pandas.core.frame.DataFrame'>\n",
      "RangeIndex: 154 entries, 0 to 153\n",
      "Data columns (total 12 columns):\n",
      "Country                          154 non-null object\n",
      "Happiness.Rank                   154 non-null int64\n",
      "Happiness.Score                  154 non-null float64\n",
      "Whisker.high                     154 non-null float64\n",
      "Whisker.low                      154 non-null float64\n",
      "Economy..GDP.per.Capita.         154 non-null float64\n",
      "Family                           154 non-null float64\n",
      "Health..Life.Expectancy.         154 non-null float64\n",
      "Freedom                          154 non-null float64\n",
      "Generosity                       154 non-null float64\n",
      "Trust..Government.Corruption.    154 non-null float64\n",
      "Dystopia.Residual                154 non-null float64\n",
      "dtypes: float64(10), int64(1), object(1)\n",
      "memory usage: 14.5+ KB\n"
     ]
    }
   ],
   "source": [
    "data.info()"
   ]
  },
  {
   "cell_type": "code",
   "execution_count": 4,
   "metadata": {},
   "outputs": [
    {
     "data": {
      "text/html": [
       "<div>\n",
       "<style scoped>\n",
       "    .dataframe tbody tr th:only-of-type {\n",
       "        vertical-align: middle;\n",
       "    }\n",
       "\n",
       "    .dataframe tbody tr th {\n",
       "        vertical-align: top;\n",
       "    }\n",
       "\n",
       "    .dataframe thead th {\n",
       "        text-align: right;\n",
       "    }\n",
       "</style>\n",
       "<table border=\"1\" class=\"dataframe\">\n",
       "  <thead>\n",
       "    <tr style=\"text-align: right;\">\n",
       "      <th></th>\n",
       "      <th>Happiness.Rank</th>\n",
       "      <th>Happiness.Score</th>\n",
       "      <th>Whisker.high</th>\n",
       "      <th>Whisker.low</th>\n",
       "      <th>Economy..GDP.per.Capita.</th>\n",
       "      <th>Family</th>\n",
       "      <th>Health..Life.Expectancy.</th>\n",
       "      <th>Freedom</th>\n",
       "      <th>Generosity</th>\n",
       "      <th>Trust..Government.Corruption.</th>\n",
       "      <th>Dystopia.Residual</th>\n",
       "    </tr>\n",
       "  </thead>\n",
       "  <tbody>\n",
       "    <tr>\n",
       "      <th>count</th>\n",
       "      <td>154.000000</td>\n",
       "      <td>154.000000</td>\n",
       "      <td>154.000000</td>\n",
       "      <td>154.000000</td>\n",
       "      <td>154.000000</td>\n",
       "      <td>154.000000</td>\n",
       "      <td>154.000000</td>\n",
       "      <td>154.000000</td>\n",
       "      <td>154.000000</td>\n",
       "      <td>154.000000</td>\n",
       "      <td>154.000000</td>\n",
       "    </tr>\n",
       "    <tr>\n",
       "      <th>mean</th>\n",
       "      <td>77.500000</td>\n",
       "      <td>5.371299</td>\n",
       "      <td>5.469127</td>\n",
       "      <td>5.273470</td>\n",
       "      <td>0.991112</td>\n",
       "      <td>1.196618</td>\n",
       "      <td>0.554799</td>\n",
       "      <td>0.409682</td>\n",
       "      <td>0.246663</td>\n",
       "      <td>0.123552</td>\n",
       "      <td>1.848837</td>\n",
       "    </tr>\n",
       "    <tr>\n",
       "      <th>std</th>\n",
       "      <td>44.600075</td>\n",
       "      <td>1.114210</td>\n",
       "      <td>1.102394</td>\n",
       "      <td>1.127151</td>\n",
       "      <td>0.414542</td>\n",
       "      <td>0.271590</td>\n",
       "      <td>0.233891</td>\n",
       "      <td>0.150070</td>\n",
       "      <td>0.135192</td>\n",
       "      <td>0.101849</td>\n",
       "      <td>0.501354</td>\n",
       "    </tr>\n",
       "    <tr>\n",
       "      <th>min</th>\n",
       "      <td>1.000000</td>\n",
       "      <td>2.905000</td>\n",
       "      <td>3.074690</td>\n",
       "      <td>2.735310</td>\n",
       "      <td>0.022643</td>\n",
       "      <td>0.396103</td>\n",
       "      <td>0.000000</td>\n",
       "      <td>0.000000</td>\n",
       "      <td>0.000000</td>\n",
       "      <td>0.000000</td>\n",
       "      <td>0.377914</td>\n",
       "    </tr>\n",
       "    <tr>\n",
       "      <th>25%</th>\n",
       "      <td>39.250000</td>\n",
       "      <td>4.519250</td>\n",
       "      <td>4.616703</td>\n",
       "      <td>4.377365</td>\n",
       "      <td>0.679481</td>\n",
       "      <td>1.049448</td>\n",
       "      <td>0.380798</td>\n",
       "      <td>0.307313</td>\n",
       "      <td>0.153590</td>\n",
       "      <td>0.057931</td>\n",
       "      <td>1.587952</td>\n",
       "    </tr>\n",
       "    <tr>\n",
       "      <th>50%</th>\n",
       "      <td>77.500000</td>\n",
       "      <td>5.286000</td>\n",
       "      <td>5.380905</td>\n",
       "      <td>5.193687</td>\n",
       "      <td>1.066948</td>\n",
       "      <td>1.254751</td>\n",
       "      <td>0.609627</td>\n",
       "      <td>0.438880</td>\n",
       "      <td>0.231521</td>\n",
       "      <td>0.089914</td>\n",
       "      <td>1.829808</td>\n",
       "    </tr>\n",
       "    <tr>\n",
       "      <th>75%</th>\n",
       "      <td>115.750000</td>\n",
       "      <td>6.103250</td>\n",
       "      <td>6.195921</td>\n",
       "      <td>6.012285</td>\n",
       "      <td>1.319453</td>\n",
       "      <td>1.415360</td>\n",
       "      <td>0.724903</td>\n",
       "      <td>0.517596</td>\n",
       "      <td>0.324529</td>\n",
       "      <td>0.153411</td>\n",
       "      <td>2.147727</td>\n",
       "    </tr>\n",
       "    <tr>\n",
       "      <th>max</th>\n",
       "      <td>154.000000</td>\n",
       "      <td>7.537000</td>\n",
       "      <td>7.622030</td>\n",
       "      <td>7.479556</td>\n",
       "      <td>1.870766</td>\n",
       "      <td>1.610574</td>\n",
       "      <td>0.949492</td>\n",
       "      <td>0.658249</td>\n",
       "      <td>0.838075</td>\n",
       "      <td>0.464308</td>\n",
       "      <td>3.117485</td>\n",
       "    </tr>\n",
       "  </tbody>\n",
       "</table>\n",
       "</div>"
      ],
      "text/plain": [
       "       Happiness.Rank  Happiness.Score  Whisker.high  Whisker.low  \\\n",
       "count      154.000000       154.000000    154.000000   154.000000   \n",
       "mean        77.500000         5.371299      5.469127     5.273470   \n",
       "std         44.600075         1.114210      1.102394     1.127151   \n",
       "min          1.000000         2.905000      3.074690     2.735310   \n",
       "25%         39.250000         4.519250      4.616703     4.377365   \n",
       "50%         77.500000         5.286000      5.380905     5.193687   \n",
       "75%        115.750000         6.103250      6.195921     6.012285   \n",
       "max        154.000000         7.537000      7.622030     7.479556   \n",
       "\n",
       "       Economy..GDP.per.Capita.      Family  Health..Life.Expectancy.  \\\n",
       "count                154.000000  154.000000                154.000000   \n",
       "mean                   0.991112    1.196618                  0.554799   \n",
       "std                    0.414542    0.271590                  0.233891   \n",
       "min                    0.022643    0.396103                  0.000000   \n",
       "25%                    0.679481    1.049448                  0.380798   \n",
       "50%                    1.066948    1.254751                  0.609627   \n",
       "75%                    1.319453    1.415360                  0.724903   \n",
       "max                    1.870766    1.610574                  0.949492   \n",
       "\n",
       "          Freedom  Generosity  Trust..Government.Corruption.  \\\n",
       "count  154.000000  154.000000                     154.000000   \n",
       "mean     0.409682    0.246663                       0.123552   \n",
       "std      0.150070    0.135192                       0.101849   \n",
       "min      0.000000    0.000000                       0.000000   \n",
       "25%      0.307313    0.153590                       0.057931   \n",
       "50%      0.438880    0.231521                       0.089914   \n",
       "75%      0.517596    0.324529                       0.153411   \n",
       "max      0.658249    0.838075                       0.464308   \n",
       "\n",
       "       Dystopia.Residual  \n",
       "count         154.000000  \n",
       "mean            1.848837  \n",
       "std             0.501354  \n",
       "min             0.377914  \n",
       "25%             1.587952  \n",
       "50%             1.829808  \n",
       "75%             2.147727  \n",
       "max             3.117485  "
      ]
     },
     "execution_count": 4,
     "metadata": {},
     "output_type": "execute_result"
    }
   ],
   "source": [
    "data.describe()\n"
   ]
  },
  {
   "cell_type": "code",
   "execution_count": 5,
   "metadata": {},
   "outputs": [
    {
     "data": {
      "image/png": "[encoded data removed]",
      "text/plain": [
       "<Figure size 1440x1080 with 12 Axes>"
      ]
     },
     "metadata": {
      "needs_background": "light"
     },
     "output_type": "display_data"
    }
   ],
   "source": [
    "%matplotlib inline\n",
    "import matplotlib.pyplot as plt\n",
    "data.hist(bins=50, figsize=(20, 15))\n",
    "plt.show()"
   ]
  },
  {
   "cell_type": "code",
   "execution_count": 6,
   "metadata": {},
   "outputs": [],
   "source": [
    "import hashlib\n",
    "import numpy as np\n",
    "def test_set_check(identifier, test_ratio, hash):\n",
    "    return hash(np.int64(identifier)).digest()[-1] < 256 * test_ratio\n",
    "\n",
    "def split_train_test_by_id(data, test_ratio, id_column, hash=hashlib.md5):\n",
    "    ids = data[id_column]\n",
    "    in_test_set = ids.apply(lambda id_: test_set_check(id_, test_ratio, hash))\n",
    "    return data.loc[~in_test_set], data.loc[in_test_set]\n",
    "\n"
   ]
  },
  {
   "cell_type": "code",
   "execution_count": 7,
   "metadata": {},
   "outputs": [],
   "source": [
    "data_with_id = data.reset_index() # adds an `index` column\n",
    "train_set, test_set = split_train_test_by_id(data_with_id, 0.2, \"index\")"
   ]
  },
  {
   "cell_type": "code",
   "execution_count": 8,
   "metadata": {},
   "outputs": [
    {
     "name": "stdout",
     "output_type": "stream",
     "text": [
      "length of train_set:  124\n",
      "length of test_set:  30\n"
     ]
    }
   ],
   "source": [
    "print(\"length of train_set: \", len(train_set))\n",
    "print(\"length of test_set: \", len(test_set))"
   ]
  },
  {
   "cell_type": "markdown",
   "metadata": {},
   "source": [
    "Preparing the data"
   ]
  },
  {
   "cell_type": "code",
   "execution_count": 9,
   "metadata": {},
   "outputs": [],
   "source": [
    "data = train_set.drop([\"Happiness.Score\",\"Happiness.Rank\",\"Whisker.high\",\"Whisker.low\"], axis = 1) # drop labels for training set\n",
    "data_labels = train_set[\"Happiness.Score\"].copy()"
   ]
  },
  {
   "cell_type": "code",
   "execution_count": 10,
   "metadata": {},
   "outputs": [],
   "source": [
    "#using Imputer to change 0 (assumed as null input data) to mean instead\n",
    "try:\n",
    "    from sklearn.impute import SimpleImputer # Scikit-Learn 0.20+\n",
    "except ImportError:\n",
    "    from sklearn.preprocessing import Imputer as SimpleImputer\n",
    "\n",
    "imputer = SimpleImputer(strategy=\"mean\", missing_values = 0)"
   ]
  },
  {
   "cell_type": "code",
   "execution_count": 11,
   "metadata": {},
   "outputs": [
    {
     "data": {
      "text/html": [
       "<div>\n",
       "<style scoped>\n",
       "    .dataframe tbody tr th:only-of-type {\n",
       "        vertical-align: middle;\n",
       "    }\n",
       "\n",
       "    .dataframe tbody tr th {\n",
       "        vertical-align: top;\n",
       "    }\n",
       "\n",
       "    .dataframe thead th {\n",
       "        text-align: right;\n",
       "    }\n",
       "</style>\n",
       "<table border=\"1\" class=\"dataframe\">\n",
       "  <thead>\n",
       "    <tr style=\"text-align: right;\">\n",
       "      <th></th>\n",
       "      <th>index</th>\n",
       "      <th>Economy..GDP.per.Capita.</th>\n",
       "      <th>Family</th>\n",
       "      <th>Health..Life.Expectancy.</th>\n",
       "      <th>Freedom</th>\n",
       "      <th>Generosity</th>\n",
       "      <th>Trust..Government.Corruption.</th>\n",
       "      <th>Dystopia.Residual</th>\n",
       "    </tr>\n",
       "  </thead>\n",
       "  <tbody>\n",
       "    <tr>\n",
       "      <th>0</th>\n",
       "      <td>0</td>\n",
       "      <td>1.616463</td>\n",
       "      <td>1.533524</td>\n",
       "      <td>0.796667</td>\n",
       "      <td>0.635423</td>\n",
       "      <td>0.362012</td>\n",
       "      <td>0.315964</td>\n",
       "      <td>2.277027</td>\n",
       "    </tr>\n",
       "    <tr>\n",
       "      <th>1</th>\n",
       "      <td>1</td>\n",
       "      <td>1.482383</td>\n",
       "      <td>1.551122</td>\n",
       "      <td>0.792566</td>\n",
       "      <td>0.626007</td>\n",
       "      <td>0.355280</td>\n",
       "      <td>0.400770</td>\n",
       "      <td>2.313707</td>\n",
       "    </tr>\n",
       "    <tr>\n",
       "      <th>2</th>\n",
       "      <td>2</td>\n",
       "      <td>1.480633</td>\n",
       "      <td>1.610574</td>\n",
       "      <td>0.833552</td>\n",
       "      <td>0.627163</td>\n",
       "      <td>0.475540</td>\n",
       "      <td>0.153527</td>\n",
       "      <td>2.322715</td>\n",
       "    </tr>\n",
       "    <tr>\n",
       "      <th>3</th>\n",
       "      <td>3</td>\n",
       "      <td>1.564980</td>\n",
       "      <td>1.516912</td>\n",
       "      <td>0.858131</td>\n",
       "      <td>0.620071</td>\n",
       "      <td>0.290549</td>\n",
       "      <td>0.367007</td>\n",
       "      <td>2.276716</td>\n",
       "    </tr>\n",
       "    <tr>\n",
       "      <th>6</th>\n",
       "      <td>6</td>\n",
       "      <td>1.479204</td>\n",
       "      <td>1.481349</td>\n",
       "      <td>0.834558</td>\n",
       "      <td>0.611101</td>\n",
       "      <td>0.435540</td>\n",
       "      <td>0.287372</td>\n",
       "      <td>2.187264</td>\n",
       "    </tr>\n",
       "  </tbody>\n",
       "</table>\n",
       "</div>"
      ],
      "text/plain": [
       "   index  Economy..GDP.per.Capita.    Family  Health..Life.Expectancy.  \\\n",
       "0      0                  1.616463  1.533524                  0.796667   \n",
       "1      1                  1.482383  1.551122                  0.792566   \n",
       "2      2                  1.480633  1.610574                  0.833552   \n",
       "3      3                  1.564980  1.516912                  0.858131   \n",
       "6      6                  1.479204  1.481349                  0.834558   \n",
       "\n",
       "    Freedom  Generosity  Trust..Government.Corruption.  Dystopia.Residual  \n",
       "0  0.635423    0.362012                       0.315964           2.277027  \n",
       "1  0.626007    0.355280                       0.400770           2.313707  \n",
       "2  0.627163    0.475540                       0.153527           2.322715  \n",
       "3  0.620071    0.290549                       0.367007           2.276716  \n",
       "6  0.611101    0.435540                       0.287372           2.187264  "
      ]
     },
     "execution_count": 11,
     "metadata": {},
     "output_type": "execute_result"
    }
   ],
   "source": [
    "data_num = data.drop('Country', axis=1)\n",
    "data_num.head()"
   ]
  },
  {
   "cell_type": "code",
   "execution_count": 12,
   "metadata": {},
   "outputs": [
    {
     "data": {
      "text/plain": [
       "SimpleImputer(copy=True, fill_value=None, missing_values=0, strategy='mean',\n",
       "       verbose=0)"
      ]
     },
     "execution_count": 12,
     "metadata": {},
     "output_type": "execute_result"
    }
   ],
   "source": [
    "imputer.fit(data_num)"
   ]
  },
  {
   "cell_type": "code",
   "execution_count": 13,
   "metadata": {},
   "outputs": [
    {
     "data": {
      "text/plain": [
       "array([76.54471545,  0.98418839,  1.1988766 ,  0.56192564,  0.41596446,\n",
       "        0.24831369,  0.12197952,  1.86701326])"
      ]
     },
     "execution_count": 13,
     "metadata": {},
     "output_type": "execute_result"
    }
   ],
   "source": [
    "imputer.statistics_"
   ]
  },
  {
   "cell_type": "code",
   "execution_count": 14,
   "metadata": {},
   "outputs": [
    {
     "data": {
      "text/plain": [
       "array([75.92741935,  0.98418839,  1.1988766 ,  0.55739398,  0.4126099 ,\n",
       "        0.24631116,  0.12197952,  1.86701326])"
      ]
     },
     "execution_count": 14,
     "metadata": {},
     "output_type": "execute_result"
    }
   ],
   "source": [
    "data_num.mean().values"
   ]
  },
  {
   "cell_type": "code",
   "execution_count": 15,
   "metadata": {},
   "outputs": [],
   "source": [
    "X = imputer.transform(data_num)"
   ]
  },
  {
   "cell_type": "code",
   "execution_count": 16,
   "metadata": {},
   "outputs": [],
   "source": [
    "data_tr = pd.DataFrame(X, columns=data_num.columns,\n",
    "                          index = list(data.index.values))"
   ]
  },
  {
   "cell_type": "code",
   "execution_count": 17,
   "metadata": {},
   "outputs": [],
   "source": [
    "from sklearn.pipeline import Pipeline\n",
    "\n",
    "num_pipeline = Pipeline([\n",
    "        ('imputer', SimpleImputer(strategy=\"mean\", missing_values = 0))\n",
    "    ])\n",
    "\n",
    "data_prepared = num_pipeline.fit_transform(data_num)"
   ]
  },
  {
   "cell_type": "code",
   "execution_count": 18,
   "metadata": {},
   "outputs": [
    {
     "data": {
      "text/plain": [
       "array([[7.65447154e+01, 1.61646318e+00, 1.53352356e+00, 7.96666503e-01,\n",
       "        6.35422587e-01, 3.62012237e-01, 3.15963835e-01, 2.27702665e+00],\n",
       "       [1.00000000e+00, 1.48238301e+00, 1.55112159e+00, 7.92565525e-01,\n",
       "        6.26006722e-01, 3.55280489e-01, 4.00770068e-01, 2.31370735e+00],\n",
       "       [2.00000000e+00, 1.48063302e+00, 1.61057401e+00, 8.33552122e-01,\n",
       "        6.27162635e-01, 4.75540221e-01, 1.53526559e-01, 2.32271528e+00],\n",
       "       [3.00000000e+00, 1.56497955e+00, 1.51691175e+00, 8.58131289e-01,\n",
       "        6.20070577e-01, 2.90549278e-01, 3.67007285e-01, 2.27671623e+00],\n",
       "       [6.00000000e+00, 1.47920442e+00, 1.48134899e+00, 8.34557652e-01,\n",
       "        6.11100912e-01, 4.35539722e-01, 2.87371516e-01, 2.18726444e+00],\n",
       "       [7.00000000e+00, 1.40570605e+00, 1.54819512e+00, 8.16759706e-01,\n",
       "        6.14062130e-01, 5.00005126e-01, 3.82816702e-01, 2.04645634e+00],\n",
       "       [8.00000000e+00, 1.49438727e+00, 1.47816217e+00, 8.30875158e-01,\n",
       "        6.12924099e-01, 3.85399252e-01, 3.84398729e-01, 2.09753799e+00],\n",
       "       [9.00000000e+00, 1.48441493e+00, 1.51004195e+00, 8.43886793e-01,\n",
       "        6.01607382e-01, 4.77699250e-01, 3.01183730e-01, 2.06521082e+00],\n",
       "       [1.00000000e+01, 1.37538242e+00, 1.37628996e+00, 8.38404000e-01,\n",
       "        4.05988604e-01, 3.30082655e-01, 8.52421000e-02, 2.80175734e+00],\n",
       "       [1.20000000e+01, 1.48709726e+00, 1.45994496e+00, 8.15328419e-01,\n",
       "        5.67766190e-01, 3.16472322e-01, 2.21060365e-01, 2.13850641e+00],\n",
       "       [1.30000000e+01, 1.54625928e+00, 1.41992056e+00, 7.74286628e-01,\n",
       "        5.05740523e-01, 3.92578781e-01, 1.35638788e-01, 2.21811342e+00],\n",
       "       [1.40000000e+01, 1.53570664e+00, 1.55823112e+00, 8.09782624e-01,\n",
       "        5.73110342e-01, 4.27858323e-01, 2.98388153e-01, 1.77386904e+00],\n",
       "       [1.50000000e+01, 1.48792338e+00, 1.47252035e+00, 7.98950732e-01,\n",
       "        5.62511384e-01, 3.36269170e-01, 2.76731938e-01, 2.01576996e+00],\n",
       "       [1.60000000e+01, 1.46378076e+00, 1.46231270e+00, 8.18091869e-01,\n",
       "        5.39770722e-01, 2.31503338e-01, 2.51343131e-01, 2.12421036e+00],\n",
       "       [1.70000000e+01, 1.74194360e+00, 1.45758367e+00, 8.45089495e-01,\n",
       "        5.96627891e-01, 2.83180982e-01, 3.18834424e-01, 1.61951208e+00],\n",
       "       [1.80000000e+01, 1.44163394e+00, 1.49646008e+00, 8.05335939e-01,\n",
       "        5.08190036e-01, 4.92774159e-01, 2.65428066e-01, 1.70414352e+00],\n",
       "       [1.90000000e+01, 1.25278461e+00, 1.28402495e+00, 8.19479704e-01,\n",
       "        3.76895279e-01, 3.26662421e-01, 8.22879820e-02, 2.50958586e+00],\n",
       "       [2.10000000e+01, 1.10735321e+00, 1.43130600e+00, 6.16552353e-01,\n",
       "        4.37453747e-01, 1.62349895e-01, 1.11092761e-01, 2.76926708e+00],\n",
       "       [2.20000000e+01, 1.35268235e+00, 1.43388522e+00, 7.54444003e-01,\n",
       "        4.90946174e-01, 8.81067590e-02, 3.68729270e-02, 2.45186186e+00],\n",
       "       [2.40000000e+01, 1.15318382e+00, 1.21086216e+00, 7.09978998e-01,\n",
       "        4.12730008e-01, 1.20990433e-01, 1.32774115e-01, 2.83715487e+00],\n",
       "       [2.50000000e+01, 1.69227767e+00, 1.35381436e+00, 9.49492395e-01,\n",
       "        5.49840569e-01, 3.45965981e-01, 4.64307785e-01, 1.21636200e+00],\n",
       "       [2.60000000e+01, 1.34327984e+00, 1.48841167e+00, 8.21944237e-01,\n",
       "        5.88767052e-01, 5.74730575e-01, 1.53066069e-01, 1.55686283e+00],\n",
       "       [2.70000000e+01, 1.21755970e+00, 1.41222787e+00, 7.19216824e-01,\n",
       "        5.79392254e-01, 1.75096929e-01, 1.78061873e-01, 2.17240953e+00],\n",
       "       [2.80000000e+01, 8.72001946e-01, 1.25558519e+00, 5.40239990e-01,\n",
       "        5.31310618e-01, 2.83488393e-01, 7.72232790e-02, 2.89389110e+00],\n",
       "       [2.90000000e+01, 1.23374844e+00, 1.37319255e+00, 7.06156135e-01,\n",
       "        5.50026834e-01, 2.10556939e-01, 7.09839240e-02, 2.30719996e+00],\n",
       "       [3.00000000e+01, 1.43092346e+00, 1.38777685e+00, 8.44465852e-01,\n",
       "        4.70222116e-01, 1.29762307e-01, 1.72502428e-01, 2.00595474e+00],\n",
       "       [3.10000000e+01, 1.12786877e+00, 1.42579246e+00, 6.47239029e-01,\n",
       "        5.80200732e-01, 5.72123110e-01, 3.16127350e-02, 2.03950834e+00],\n",
       "       [3.20000000e+01, 1.43362653e+00, 1.38456535e+00, 7.93984234e-01,\n",
       "        3.61466587e-01, 2.58360475e-01, 6.38292360e-02, 2.12660742e+00],\n",
       "       [3.30000000e+01, 1.38439786e+00, 1.53209090e+00, 8.88960600e-01,\n",
       "        4.08781230e-01, 1.90133572e-01, 7.09140970e-02, 1.92775774e+00],\n",
       "       [3.60000000e+01, 1.53062356e+00, 1.28667760e+00, 5.90148330e-01,\n",
       "        4.49750572e-01, 1.47616014e-01, 2.73432255e-01, 2.06542969e+00],\n",
       "       [3.70000000e+01, 1.36135590e+00, 1.38022852e+00, 5.19983292e-01,\n",
       "        5.18630743e-01, 3.25296462e-01, 8.96481600e-03, 2.05324745e+00],\n",
       "       [3.90000000e+01, 1.32539356e+00, 1.50505924e+00, 7.12732911e-01,\n",
       "        2.95817465e-01, 1.36544481e-01, 2.42108520e-02, 2.09777665e+00],\n",
       "       [4.00000000e+01, 1.48841226e+00, 1.32311046e+00, 6.53133035e-01,\n",
       "        5.36746919e-01, 1.72668487e-01, 2.57042170e-01, 1.65614939e+00],\n",
       "       [4.10000000e+01, 1.29121542e+00, 1.28464603e+00, 6.18784428e-01,\n",
       "        4.02264982e-01, 4.16608930e-01, 6.56007080e-02, 2.00444889e+00],\n",
       "       [4.20000000e+01, 7.37299204e-01, 1.28721571e+00, 6.53095961e-01,\n",
       "        4.47551847e-01, 3.01674217e-01, 1.30687982e-01, 2.51393056e+00],\n",
       "       [4.30000000e+01, 1.00082040e+00, 1.28616881e+00, 6.85636222e-01,\n",
       "        4.55198199e-01, 1.50112465e-01, 1.40134647e-01, 2.29035258e+00],\n",
       "       [4.40000000e+01, 9.09784496e-01, 1.18212509e+00, 5.96018553e-01,\n",
       "        4.32452530e-01, 7.82579850e-02, 8.99809600e-02, 2.71459389e+00],\n",
       "       [4.50000000e+01, 1.29178786e+00, 1.44571197e+00, 6.99475348e-01,\n",
       "        5.20342112e-01, 1.58465967e-01, 5.93078060e-02, 1.79772282e+00],\n",
       "       [4.70000000e+01, 1.39506662e+00, 1.44492328e+00, 8.53144348e-01,\n",
       "        2.56450713e-01, 1.72789648e-01, 2.80280910e-02, 1.81331205e+00],\n",
       "       [4.80000000e+01, 1.28177810e+00, 1.46928239e+00, 5.47349334e-01,\n",
       "        3.73783112e-01, 5.22638220e-02, 3.29628810e-02, 2.20560741e+00],\n",
       "       [4.90000000e+01, 9.07975316e-01, 1.08141780e+00, 4.50191766e-01,\n",
       "        5.47509372e-01, 2.40015641e-01, 9.65810720e-02, 2.63195562e+00],\n",
       "       [5.00000000e+01, 1.41691518e+00, 1.43633783e+00, 9.13475871e-01,\n",
       "        5.05625546e-01, 1.20572768e-01, 1.63760737e-01, 1.36322355e+00],\n",
       "       [5.30000000e+01, 1.26074862e+00, 1.40471494e+00, 6.38566971e-01,\n",
       "        3.25707912e-01, 1.53074786e-01, 7.38427270e-02, 1.99365521e+00],\n",
       "       [5.40000000e+01, 1.40167844e+00, 1.12827444e+00, 9.00214076e-01,\n",
       "        2.57921666e-01, 2.06674367e-01, 6.32826690e-02, 1.88037801e+00],\n",
       "       [5.50000000e+01, 7.28870630e-01, 1.25182557e+00, 5.89465201e-01,\n",
       "        2.40729049e-01, 2.08779126e-01, 1.00912860e-02, 2.80780840e+00],\n",
       "       [5.60000000e+01, 1.21768391e+00, 1.15009129e+00, 6.85158312e-01,\n",
       "        4.57003742e-01, 1.33519918e-01, 4.38790100e-03, 2.17683148e+00],\n",
       "       [5.70000000e+01, 8.33756566e-01, 1.22761905e+00, 4.73630250e-01,\n",
       "        5.58732927e-01, 2.25560725e-01, 6.04777260e-02, 2.44327903e+00],\n",
       "       [5.80000000e+01, 1.13077676e+00, 1.49314916e+00, 4.37726080e-01,\n",
       "        4.18271929e-01, 2.49924988e-01, 2.59270340e-01, 1.83290982e+00],\n",
       "       [5.90000000e+01, 1.28455627e+00, 1.38436902e+00, 6.06041551e-01,\n",
       "        4.37454283e-01, 2.01964423e-01, 1.19282886e-01, 1.78489256e+00],\n",
       "       [6.00000000e+01, 1.34691131e+00, 1.18630338e+00, 8.34647238e-01,\n",
       "        4.71203625e-01, 2.66845703e-01, 1.55353352e-01, 1.54915762e+00],\n",
       "       [6.10000000e+01, 1.34120595e+00, 1.45251882e+00, 7.90828228e-01,\n",
       "        5.72575808e-01, 2.42649093e-01, 4.51289790e-02, 1.31331730e+00],\n",
       "       [6.30000000e+01, 1.18939555e+00, 1.20956099e+00, 6.38007462e-01,\n",
       "        4.91247326e-01, 3.60933751e-01, 4.21815550e-02, 1.69758391e+00],\n",
       "       [6.40000000e+01, 1.35593808e+00, 1.13136327e+00, 8.44714701e-01,\n",
       "        3.55111539e-01, 2.71254301e-01, 4.12379760e-02, 1.62124920e+00],\n",
       "       [6.60000000e+01, 1.15655756e+00, 1.44494522e+00, 6.37714267e-01,\n",
       "        2.95400262e-01, 1.55137509e-01, 1.56313822e-01, 1.72323299e+00],\n",
       "       [6.70000000e+01, 1.10180306e+00, 1.35756433e+00, 5.20169020e-01,\n",
       "        4.65733230e-01, 1.52073666e-01, 9.26102100e-02, 1.83501124e+00],\n",
       "       [6.80000000e+01, 1.19827437e+00, 1.33775318e+00, 6.37605608e-01,\n",
       "        3.00740600e-01, 4.66930420e-02, 9.96715800e-02, 1.87927794e+00],\n",
       "       [6.90000000e+01, 9.32537317e-01, 1.50728488e+00, 5.79250693e-01,\n",
       "        4.73507792e-01, 2.24150658e-01, 9.10659130e-02, 1.68533349e+00],\n",
       "       [7.10000000e+01, 8.57699215e-01, 1.25391758e+00, 4.68009055e-01,\n",
       "        5.85214674e-01, 1.93513423e-01, 9.93318930e-02, 1.97260475e+00],\n",
       "       [7.20000000e+01, 1.06931758e+00, 1.25818980e+00, 6.50784671e-01,\n",
       "        2.08715528e-01, 2.20125884e-01, 4.09037810e-02, 1.94708443e+00],\n",
       "       [7.30000000e+01, 9.91012394e-01, 1.23908889e+00, 6.04590058e-01,\n",
       "        4.18421149e-01, 1.72170460e-01, 1.19803272e-01, 1.79117656e+00],\n",
       "       [7.40000000e+01, 1.28601193e+00, 1.34313309e+00, 6.87763453e-01,\n",
       "        1.75863519e-01, 7.84016620e-02, 3.66369370e-02, 1.71645927e+00],\n",
       "       [7.50000000e+01, 9.25579309e-01, 1.36821806e+00, 6.41022384e-01,\n",
       "        4.74307239e-01, 2.33818337e-01, 5.52677810e-02, 1.61232567e+00],\n",
       "       [7.60000000e+01, 1.22255623e+00, 9.67983007e-01, 7.01288521e-01,\n",
       "        2.55772293e-01, 2.48002976e-01, 4.31031100e-02, 1.85449243e+00],\n",
       "       [7.70000000e+01, 9.51484382e-01, 1.13785350e+00, 5.41452050e-01,\n",
       "        2.60287941e-01, 3.19931448e-01, 5.74716180e-02, 2.01054072e+00],\n",
       "       [7.80000000e+01, 1.08116579e+00, 1.16083741e+00, 7.41415501e-01,\n",
       "        4.72787708e-01, 2.88068410e-02, 2.27942750e-02, 1.76493859e+00],\n",
       "       [7.90000000e+01, 7.26883531e-01, 6.72690690e-01, 4.02047783e-01,\n",
       "        2.35215262e-01, 3.15446019e-01, 1.24348067e-01, 2.79248929e+00],\n",
       "       [8.10000000e+01, 1.12843120e+00, 1.43133760e+00, 6.17144227e-01,\n",
       "        1.53997123e-01, 6.50196300e-02, 6.44911230e-02, 1.78946376e+00],\n",
       "       [8.20000000e+01, 1.12112904e+00, 1.23837650e+00, 6.67464674e-01,\n",
       "        1.94989055e-01, 1.97911024e-01, 8.81741940e-02, 1.72919154e+00],\n",
       "       [8.30000000e+01, 8.78114581e-01, 7.74864435e-01, 5.97710669e-01,\n",
       "        4.08158332e-01, 3.22099550e-02, 8.77631830e-02, 2.45618939e+00],\n",
       "       [8.40000000e+01, 1.15360177e+00, 1.15240026e+00, 5.40775776e-01,\n",
       "        3.98155838e-01, 4.52693400e-02, 1.80987507e-01, 1.76248169e+00],\n",
       "       [8.50000000e+01, 1.07937384e+00, 1.40241671e+00, 5.74873745e-01,\n",
       "        5.52589834e-01, 1.86967850e-01, 1.13945253e-01, 1.31946516e+00],\n",
       "       [8.60000000e+01, 1.28948748e+00, 1.23941457e+00, 8.10198903e-01,\n",
       "        9.57312510e-02, 2.48313685e-01, 4.32897770e-02, 1.74922156e+00],\n",
       "       [8.80000000e+01, 1.31517529e+00, 1.36704302e+00, 7.95843542e-01,\n",
       "        4.98465300e-01, 9.51027130e-02, 1.58694520e-02, 1.10768270e+00],\n",
       "       [9.00000000e+01, 7.30573118e-01, 1.14394498e+00, 5.82569480e-01,\n",
       "        3.48079860e-01, 2.36188874e-01, 7.33454530e-02, 2.06581116e+00],\n",
       "       [9.10000000e+01, 1.06457794e+00, 1.20789301e+00, 6.44948184e-01,\n",
       "        3.25905979e-01, 2.53760964e-01, 6.02777940e-02, 1.61746931e+00],\n",
       "       [9.20000000e+01, 2.26431840e-02, 7.21151352e-01, 1.13989137e-01,\n",
       "        6.02126956e-01, 2.91631311e-01, 2.82410324e-01, 3.11748457e+00],\n",
       "       [9.30000000e+01, 7.88547575e-01, 1.27749133e+00, 6.52168989e-01,\n",
       "        5.71055591e-01, 2.34968051e-01, 8.76332370e-02, 1.46231866e+00],\n",
       "       [9.40000000e+01, 7.83756256e-01, 1.21577048e+00, 5.69157300e-02,\n",
       "        3.94952565e-01, 2.30947196e-01, 2.61215660e-02, 2.36539054e+00],\n",
       "       [9.50000000e+01, 5.24713635e-01, 1.27146327e+00, 5.29235125e-01,\n",
       "        4.71566707e-01, 2.48997644e-01, 1.46377146e-01, 1.84904933e+00],\n",
       "       [9.60000000e+01, 8.85416389e-01, 1.34012651e+00, 4.95879292e-01,\n",
       "        5.01537681e-01, 4.74054545e-01, 1.73380390e-01, 1.14018440e+00],\n",
       "       [9.70000000e+01, 5.96220076e-01, 1.39423859e+00, 5.53457797e-01,\n",
       "        4.54943389e-01, 4.28580374e-01, 3.94391790e-02, 1.53672314e+00],\n",
       "       [9.80000000e+01, 4.79820192e-01, 1.17928326e+00, 5.04130781e-01,\n",
       "        4.40305948e-01, 3.94096166e-01, 7.29755460e-02, 1.89124107e+00],\n",
       "       [1.01000000e+02, 1.00726581e+00, 8.68351460e-01, 6.13212049e-01,\n",
       "        2.89680690e-01, 4.96933570e-02, 8.67231490e-02, 1.89025116e+00],\n",
       "       [1.02000000e+02, 7.16249228e-01, 1.15564716e+00, 5.65666974e-01,\n",
       "        2.54711062e-01, 1.14173174e-01, 8.92826020e-02, 1.87889028e+00],\n",
       "       [1.03000000e+02, 9.89701807e-01, 9.97471392e-01, 5.20187259e-01,\n",
       "        2.82110155e-01, 1.28631443e-01, 1.14381365e-01, 1.70216107e+00],\n",
       "       [1.05000000e+02, 3.68420929e-01, 9.84136045e-01, 5.56475400e-03,\n",
       "        3.18697691e-01, 2.93040901e-01, 7.10951760e-02, 2.66845989e+00],\n",
       "       [1.07000000e+02, 1.15687311e+00, 7.11551249e-01, 6.39333189e-01,\n",
       "        2.49322608e-01, 3.87242913e-01, 4.87610730e-02, 1.49873495e+00],\n",
       "       [1.09000000e+02, 5.86682975e-01, 7.35131741e-01, 5.33241034e-01,\n",
       "        4.78356659e-01, 1.72255352e-01, 1.23717859e-01, 1.97873616e+00],\n",
       "       [1.11000000e+02, 5.60479462e-01, 1.06795073e+00, 3.09988350e-01,\n",
       "        4.52763766e-01, 4.44860309e-01, 6.46413190e-02, 1.65190220e+00],\n",
       "       [1.12000000e+02, 2.34305650e-01, 8.70701015e-01, 1.06654435e-01,\n",
       "        4.80791092e-01, 3.22228104e-01, 1.79436386e-01, 2.35565090e+00],\n",
       "       [1.13000000e+02, 3.67110550e-01, 1.12323594e+00, 3.97522569e-01,\n",
       "        5.14492035e-01, 8.38075161e-01, 1.88816205e-01, 1.11529040e+00],\n",
       "       [1.14000000e+02, 4.79309022e-01, 1.17969191e+00, 4.09362853e-01,\n",
       "        3.77922267e-01, 1.83468893e-01, 1.15460448e-01, 1.78964615e+00],\n",
       "       [1.15000000e+02, 6.36406779e-01, 1.00318730e+00, 2.57835895e-01,\n",
       "        4.61603492e-01, 2.49580145e-01, 7.82135500e-02, 1.82670546e+00],\n",
       "       [1.16000000e+02, 1.10271049e+00, 9.78613198e-01, 5.01180470e-01,\n",
       "        2.88555533e-01, 1.99637264e-01, 1.07215755e-01, 1.31890726e+00],\n",
       "       [1.17000000e+02, 1.19821024e+00, 1.15562022e+00, 3.56578588e-01,\n",
       "        3.12328577e-01, 4.37853780e-02, 7.60467870e-02, 1.32291627e+00],\n",
       "       [1.19000000e+02, 1.00985014e+00, 1.25997639e+00, 6.25130832e-01,\n",
       "        5.61213255e-01, 4.90863562e-01, 7.36539660e-02, 4.19389248e-01],\n",
       "       [1.20000000e+02, 9.00596738e-01, 1.00748372e+00, 6.37524426e-01,\n",
       "        1.98303267e-01, 8.34880920e-02, 2.66744220e-02, 1.52149916e+00],\n",
       "       [1.21000000e+02, 7.92221248e-01, 7.54372597e-01, 4.55427617e-01,\n",
       "        4.69987005e-01, 2.31538489e-01, 9.22268850e-02, 1.51911712e+00],\n",
       "       [1.23000000e+02, 8.08964252e-01, 8.32044363e-01, 2.89957434e-01,\n",
       "        4.35025871e-01, 1.20852128e-01, 7.96181340e-02, 1.72413564e+00],\n",
       "       [1.24000000e+02, 9.50612664e-01, 5.70614934e-01, 6.49546981e-01,\n",
       "        3.09410036e-01, 5.40088150e-02, 2.51666635e-01, 1.50013781e+00],\n",
       "       [1.25000000e+02, 9.21023490e-02, 1.22902346e+00, 1.91407025e-01,\n",
       "        2.35961348e-01, 2.46455833e-01, 6.02413560e-02, 2.22495866e+00],\n",
       "       [1.26000000e+02, 4.76180494e-01, 1.28147340e+00, 1.69365674e-01,\n",
       "        3.06613743e-01, 1.83354199e-01, 1.04970247e-01, 1.66819096e+00],\n",
       "       [1.27000000e+02, 6.03048921e-01, 9.04780030e-01, 4.86421700e-02,\n",
       "        4.47706193e-01, 2.01237470e-01, 1.30061775e-01, 1.84496427e+00],\n",
       "       [1.28000000e+02, 6.01765096e-01, 1.00623834e+00, 4.29783404e-01,\n",
       "        6.33375823e-01, 3.85922968e-01, 6.81059510e-02, 1.04294109e+00],\n",
       "       [1.29000000e+02, 6.59516692e-01, 1.21400857e+00, 2.90920824e-01,\n",
       "        1.49958550e-02, 1.82317451e-01, 8.98475200e-02, 1.68706584e+00],\n",
       "       [1.30000000e+02, 6.67224824e-01, 8.73664737e-01, 2.95637727e-01,\n",
       "        4.23026294e-01, 2.56923944e-01, 2.53363700e-02, 1.57786751e+00],\n",
       "       [1.31000000e+02, 8.94651949e-01, 1.39453757e+00, 5.75903952e-01,\n",
       "        1.22974776e-01, 2.70061463e-01, 2.30294710e-02, 8.14382315e-01],\n",
       "       [1.33000000e+02, 3.50227714e-01, 1.04328000e+00, 2.15844259e-01,\n",
       "        3.24367851e-01, 2.50864685e-01, 1.20328106e-01, 1.72721291e+00],\n",
       "       [1.34000000e+02, 1.61925331e-01, 9.93025005e-01, 2.68505007e-01,\n",
       "        3.63658696e-01, 2.28673846e-01, 1.38572946e-01, 1.87398338e+00],\n",
       "       [1.35000000e+02, 2.33442038e-01, 5.12568831e-01, 3.15089583e-01,\n",
       "        4.66914654e-01, 2.87170470e-01, 7.27116540e-02, 2.08178616e+00],\n",
       "       [1.36000000e+02, 4.38012987e-01, 9.53855872e-01, 4.11347150e-02,\n",
       "        1.62342027e-01, 2.16113850e-01, 5.35818820e-02, 2.07123804e+00],\n",
       "       [1.37000000e+02, 3.75846535e-01, 1.08309591e+00, 1.96763754e-01,\n",
       "        3.36384207e-01, 1.89143494e-01, 9.53753810e-02, 1.59797025e+00],\n",
       "       [1.38000000e+02, 5.21021247e-01, 1.19009519e+00, 5.61925641e-01,\n",
       "        3.90661299e-01, 1.57497272e-01, 1.19094640e-01, 1.42983532e+00],\n",
       "       [1.39000000e+02, 8.58428180e-01, 1.10441196e+00, 4.98686660e-02,\n",
       "        4.15964455e-01, 9.79264900e-02, 6.97203350e-02, 1.61448240e+00],\n",
       "       [1.40000000e+02, 4.01477218e-01, 5.81543326e-01, 1.80746779e-01,\n",
       "        1.06179520e-01, 3.11870933e-01, 6.11578300e-02, 2.15080118e+00],\n",
       "       [1.41000000e+02, 1.12209415e+00, 1.22155499e+00, 3.41755509e-01,\n",
       "        5.05196333e-01, 9.93484480e-02, 9.85831990e-02, 3.77913713e-01],\n",
       "       [1.42000000e+02, 4.31085408e-01, 4.35299844e-01, 2.09930211e-01,\n",
       "        4.25962776e-01, 2.07948461e-01, 6.09290150e-02, 1.88563097e+00],\n",
       "       [1.43000000e+02, 3.05808693e-01, 9.13020372e-01, 3.75223309e-01,\n",
       "        1.89196765e-01, 2.08732530e-01, 6.72319750e-02, 1.58461261e+00],\n",
       "       [1.44000000e+02, 3.68610263e-01, 6.40449822e-01, 2.77321130e-01,\n",
       "        3.03698570e-02, 4.89203781e-01, 9.98721500e-02, 1.69716764e+00],\n",
       "       [1.47000000e+02, 1.19041793e-01, 8.72117937e-01, 2.29918197e-01,\n",
       "        3.32881182e-01, 2.66549885e-01, 3.89482490e-02, 1.67328596e+00],\n",
       "       [1.48000000e+02, 2.44549930e-01, 7.91244686e-01, 1.94129139e-01,\n",
       "        3.48587513e-01, 2.64815092e-01, 1.10937618e-01, 1.55231190e+00],\n",
       "       [1.49000000e+02, 3.05444717e-01, 4.31882530e-01, 2.47105569e-01,\n",
       "        3.80426139e-01, 1.96896151e-01, 9.56650150e-02, 1.83722925e+00],\n",
       "       [1.50000000e+02, 3.68745893e-01, 9.45707023e-01, 3.26424807e-01,\n",
       "        5.81843853e-01, 2.52756029e-01, 4.55220014e-01, 5.40061235e-01],\n",
       "       [1.52000000e+02, 5.11135876e-01, 1.04198980e+00, 3.64509284e-01,\n",
       "        3.90017778e-01, 3.54256362e-01, 6.60351070e-02, 6.21130466e-01]])"
      ]
     },
     "execution_count": 18,
     "metadata": {},
     "output_type": "execute_result"
    }
   ],
   "source": [
    "data_prepared"
   ]
  },
  {
   "cell_type": "markdown",
   "metadata": {},
   "source": [
    "Select and train a model"
   ]
  },
  {
   "cell_type": "code",
   "execution_count": 19,
   "metadata": {},
   "outputs": [
    {
     "data": {
      "text/plain": [
       "LinearRegression(copy_X=True, fit_intercept=True, n_jobs=None,\n",
       "         normalize=False)"
      ]
     },
     "execution_count": 19,
     "metadata": {},
     "output_type": "execute_result"
    }
   ],
   "source": [
    "from sklearn.linear_model import LinearRegression\n",
    "\n",
    "lin_reg = LinearRegression()\n",
    "lin_reg.fit(data_prepared, data_labels)"
   ]
  },
  {
   "cell_type": "code",
   "execution_count": 20,
   "metadata": {},
   "outputs": [
    {
     "data": {
      "text/plain": [
       "0.06166141759089634"
      ]
     },
     "execution_count": 20,
     "metadata": {},
     "output_type": "execute_result"
    }
   ],
   "source": [
    "from sklearn.metrics import mean_squared_error\n",
    "\n",
    "data_predictions = lin_reg.predict(data_prepared)\n",
    "lin_mse = mean_squared_error(data_labels, data_predictions)\n",
    "lin_rmse = np.sqrt(lin_mse)\n",
    "lin_rmse"
   ]
  },
  {
   "cell_type": "code",
   "execution_count": 21,
   "metadata": {},
   "outputs": [],
   "source": [
    "from sklearn.model_selection import cross_val_score\n",
    "\n",
    "scores = cross_val_score(lin_reg, data_prepared, data_labels,\n",
    "                         scoring=\"neg_mean_squared_error\", cv=5)\n",
    "lin_rmse_scores = np.sqrt(-scores)"
   ]
  },
  {
   "cell_type": "code",
   "execution_count": 22,
   "metadata": {},
   "outputs": [
    {
     "name": "stdout",
     "output_type": "stream",
     "text": [
      "Scores: [0.19675792 0.01251162 0.05107958 0.02937211 0.14177183]\n",
      "Mean: 0.08629861156628457\n",
      "Standard deviation: 0.07099868225607334\n"
     ]
    }
   ],
   "source": [
    "def display_scores(scores):\n",
    "    print(\"Scores:\", scores)\n",
    "    print(\"Mean:\", scores.mean())\n",
    "    print(\"Standard deviation:\", scores.std())\n",
    "\n",
    "display_scores(lin_rmse_scores)"
   ]
  },
  {
   "cell_type": "markdown",
   "metadata": {},
   "source": [
    "Try with Decision Tree Regressor"
   ]
  },
  {
   "cell_type": "code",
   "execution_count": 23,
   "metadata": {},
   "outputs": [
    {
     "data": {
      "text/plain": [
       "DecisionTreeRegressor(criterion='mse', max_depth=None, max_features=None,\n",
       "           max_leaf_nodes=None, min_impurity_decrease=0.0,\n",
       "           min_impurity_split=None, min_samples_leaf=1,\n",
       "           min_samples_split=2, min_weight_fraction_leaf=0.0,\n",
       "           presort=False, random_state=42, splitter='best')"
      ]
     },
     "execution_count": 23,
     "metadata": {},
     "output_type": "execute_result"
    }
   ],
   "source": [
    "from sklearn.tree import DecisionTreeRegressor\n",
    "\n",
    "tree_reg = DecisionTreeRegressor(random_state=42)\n",
    "tree_reg.fit(data_prepared, data_labels)"
   ]
  },
  {
   "cell_type": "code",
   "execution_count": 24,
   "metadata": {},
   "outputs": [],
   "source": [
    "scores = cross_val_score(tree_reg, data_prepared, data_labels,\n",
    "                         scoring=\"neg_mean_squared_error\", cv=5)\n",
    "tree_rmse_scores = np.sqrt(-scores)"
   ]
  },
  {
   "cell_type": "code",
   "execution_count": 25,
   "metadata": {},
   "outputs": [
    {
     "name": "stdout",
     "output_type": "stream",
     "text": [
      "Scores: [0.78425365 0.26408308 1.67496978 0.31488038 0.55160554]\n",
      "Mean: 0.7179584874772927\n",
      "Standard deviation: 0.513110869074194\n"
     ]
    }
   ],
   "source": [
    "display_scores(tree_rmse_scores)"
   ]
  },
  {
   "cell_type": "markdown",
   "metadata": {},
   "source": [
    "Try with Forest Regressor"
   ]
  },
  {
   "cell_type": "code",
   "execution_count": 26,
   "metadata": {},
   "outputs": [
    {
     "data": {
      "text/plain": [
       "RandomForestRegressor(bootstrap=True, criterion='mse', max_depth=None,\n",
       "           max_features='auto', max_leaf_nodes=None,\n",
       "           min_impurity_decrease=0.0, min_impurity_split=None,\n",
       "           min_samples_leaf=1, min_samples_split=2,\n",
       "           min_weight_fraction_leaf=0.0, n_estimators=10, n_jobs=None,\n",
       "           oob_score=False, random_state=42, verbose=0, warm_start=False)"
      ]
     },
     "execution_count": 26,
     "metadata": {},
     "output_type": "execute_result"
    }
   ],
   "source": [
    "from sklearn.ensemble import RandomForestRegressor\n",
    "\n",
    "forest_reg = RandomForestRegressor(n_estimators=10, random_state=42)\n",
    "forest_reg.fit(data_prepared, data_labels)"
   ]
  },
  {
   "cell_type": "code",
   "execution_count": 27,
   "metadata": {},
   "outputs": [
    {
     "name": "stdout",
     "output_type": "stream",
     "text": [
      "Scores: [0.76104759 0.24572372 0.37797139 0.32058374 0.55628931]\n",
      "Mean: 0.45232314799751483\n",
      "Standard deviation: 0.18530327868769114\n"
     ]
    }
   ],
   "source": [
    "forest_scores = cross_val_score(forest_reg, data_prepared, data_labels,\n",
    "                                scoring=\"neg_mean_squared_error\", cv=5)\n",
    "forest_rmse_scores = np.sqrt(-forest_scores)\n",
    "display_scores(forest_rmse_scores)"
   ]
  },
  {
   "cell_type": "markdown",
   "metadata": {},
   "source": [
    "    Fine-Tuning: GridSearchCV using Linear Regression model"
   ]
  },
  {
   "cell_type": "code",
   "execution_count": 28,
   "metadata": {},
   "outputs": [
    {
     "name": "stderr",
     "output_type": "stream",
     "text": [
      "c:\\users\\nipha\\appdata\\local\\programs\\python\\python37\\lib\\site-packages\\sklearn\\model_selection\\_search.py:841: DeprecationWarning: The default of the `iid` parameter will change from True to False in version 0.22 and will be removed in 0.24. This will change numeric results when test-set sizes are unequal.\n",
      "  DeprecationWarning)\n"
     ]
    },
    {
     "data": {
      "text/plain": [
       "GridSearchCV(cv=5, error_score='raise-deprecating',\n",
       "       estimator=LinearRegression(copy_X=True, fit_intercept=True, n_jobs=None,\n",
       "         normalize=False),\n",
       "       fit_params=None, iid='warn', n_jobs=None,\n",
       "       param_grid=[{'fit_intercept': [True, False], 'normalize': [True, False], 'copy_X': [True, False]}],\n",
       "       pre_dispatch='2*n_jobs', refit=True, return_train_score=True,\n",
       "       scoring='neg_mean_squared_error', verbose=0)"
      ]
     },
     "execution_count": 28,
     "metadata": {},
     "output_type": "execute_result"
    }
   ],
   "source": [
    "from sklearn.model_selection import GridSearchCV\n",
    "param_grid = [\n",
    "    # try 8 (2×2x2) combinations of hyperparameters\n",
    "   {'fit_intercept':[True,False], 'normalize':[True,False], 'copy_X':[True, False]}\n",
    "]\n",
    "\n",
    "grid_search = GridSearchCV(lin_reg, param_grid, cv=5,\n",
    "                           scoring='neg_mean_squared_error', return_train_score=True)\n",
    "grid_search.fit(data_prepared, data_labels)"
   ]
  },
  {
   "cell_type": "code",
   "execution_count": 29,
   "metadata": {},
   "outputs": [
    {
     "name": "stdout",
     "output_type": "stream",
     "text": [
      "0.11147593599969087 {'copy_X': True, 'fit_intercept': True, 'normalize': True}\n",
      "0.11147593599969154 {'copy_X': True, 'fit_intercept': True, 'normalize': False}\n",
      "0.07043276277988837 {'copy_X': True, 'fit_intercept': False, 'normalize': True}\n",
      "0.07043276277988837 {'copy_X': True, 'fit_intercept': False, 'normalize': False}\n",
      "0.11147593599969087 {'copy_X': False, 'fit_intercept': True, 'normalize': True}\n",
      "0.11147593599969154 {'copy_X': False, 'fit_intercept': True, 'normalize': False}\n",
      "0.07043276277988837 {'copy_X': False, 'fit_intercept': False, 'normalize': True}\n",
      "0.07043276277988837 {'copy_X': False, 'fit_intercept': False, 'normalize': False}\n"
     ]
    }
   ],
   "source": [
    "cvres = grid_search.cv_results_\n",
    "for mean_score, params in zip(cvres[\"mean_test_score\"], cvres[\"params\"]):\n",
    "    print(np.sqrt(-mean_score), params)"
   ]
  },
  {
   "cell_type": "code",
   "execution_count": 30,
   "metadata": {},
   "outputs": [
    {
     "data": {
      "text/plain": [
       "LinearRegression(copy_X=True, fit_intercept=False, n_jobs=None,\n",
       "         normalize=True)"
      ]
     },
     "execution_count": 30,
     "metadata": {},
     "output_type": "execute_result"
    }
   ],
   "source": [
    "grid_search.best_estimator_"
   ]
  },
  {
   "cell_type": "markdown",
   "metadata": {},
   "source": [
    "    Testing with the test set"
   ]
  },
  {
   "cell_type": "code",
   "execution_count": 31,
   "metadata": {},
   "outputs": [],
   "source": [
    "final_model = grid_search.best_estimator_\n",
    "\n",
    "X_test = test_set.drop([\"Happiness.Score\",\"Happiness.Rank\",\"Whisker.high\",\"Whisker.low\"], axis=1)\n",
    "y_test = test_set[\"Happiness.Score\"].copy()\n",
    "\n",
    "X_test_num = X_test.drop('Country', axis=1)\n",
    "X_test_prepared = num_pipeline.fit_transform(X_test_num)\n",
    "\n",
    "final_predictions = final_model.predict(X_test_prepared)\n",
    "\n",
    "\n",
    "final_mse = mean_squared_error(y_test, final_predictions)\n",
    "final_rmse = np.sqrt(final_mse)"
   ]
  },
  {
   "cell_type": "code",
   "execution_count": 32,
   "metadata": {},
   "outputs": [
    {
     "data": {
      "text/plain": [
       "0.029612678163630318"
      ]
     },
     "execution_count": 32,
     "metadata": {},
     "output_type": "execute_result"
    }
   ],
   "source": [
    "final_rmse"
   ]
  }
 ],
 "metadata": {
  "kernelspec": {
   "display_name": "Python 3",
   "language": "python",
   "name": "python3"
  },
  "language_info": {
   "codemirror_mode": {
    "name": "ipython",
    "version": 3
   },
   "file_extension": ".py",
   "mimetype": "text/x-python",
   "name": "python",
   "nbconvert_exporter": "python",
   "pygments_lexer": "ipython3",
   "version": "3.7.0"
  }
 },
 "nbformat": 4,
 "nbformat_minor": 2
}
